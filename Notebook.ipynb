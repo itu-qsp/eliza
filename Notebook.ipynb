{
 "cells": [
  {
   "cell_type": "markdown",
   "metadata": {},
   "source": [
    "# Welcome to your first programming experience!\n",
    "\n",
    "This is where your whole new adventure begins. We hope you are as excited as we are.\n",
    "\n",
    "First of all, enjoy the marvels of the 21st century by realising that you are now being included into the powerful world of programming. None of this would have happened 20 years ago. Incredible!\n",
    "\n",
    "Let's get to business. Look at the grey field below. The field is called a 'cell', and you can write code inside it. Progress with the task of copying the ELIZA hand-out into that cell, and don't forget the indentation (the spaces to the left of the text)! Note, that the intendation in the beginning of lines are created by pressing the tabulator (tab) key. On your keyboard this key looks something like: ⇥.\n",
    "\n",
    "Note that you can evaluate the content of the cell by pressing `▶ Run` or hitting `ctrl+Enter`."
   ]
  },
  {
   "cell_type": "code",
   "execution_count": null,
   "metadata": {},
   "outputs": [],
   "source": []
  },
  {
   "cell_type": "markdown",
   "metadata": {},
   "source": [
    "Stop reading this if you haven't typed in the code and made it run above!\n",
    "\n",
    "If you're done, you can proceed with installing the code editor we'll be using throughout the seminar. Installation guides are available for different operating systems:\n",
    "\n",
    "* If you are on Windows, click here: https://codewith.mu/en/howto/install_windows\n",
    "* If you are on Mac, click here: https://codewith.mu/en/howto/install_macos\n",
    "* If you are on Linux, click here: https://codewith.mu/en/howto/install_with_python"
   ]
  }
 ],
 "metadata": {
  "kernelspec": {
   "display_name": "Python 3",
   "language": "python",
   "name": "python3"
  },
  "language_info": {
   "codemirror_mode": {
    "name": "ipython",
    "version": 3
   },
   "file_extension": ".py",
   "mimetype": "text/x-python",
   "name": "python",
   "nbconvert_exporter": "python",
   "pygments_lexer": "ipython3",
   "version": "3.6.4rc1"
  }
 },
 "nbformat": 4,
 "nbformat_minor": 2
}
